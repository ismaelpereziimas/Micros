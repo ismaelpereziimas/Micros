{
  "nbformat": 4,
  "nbformat_minor": 0,
  "metadata": {
    "colab": {
      "provenance": [],
      "authorship_tag": "ABX9TyMzUohoikcWqodlz5pLiHt6",
      "include_colab_link": true
    },
    "kernelspec": {
      "name": "python3",
      "display_name": "Python 3"
    },
    "language_info": {
      "name": "python"
    }
  },
  "cells": [
    {
      "cell_type": "markdown",
      "metadata": {
        "id": "view-in-github",
        "colab_type": "text"
      },
      "source": [
        "<a href=\"https://colab.research.google.com/github/ismaelpereziimas/Micros/blob/Programacion/Suma.ipynb\" target=\"_parent\"><img src=\"https://colab.research.google.com/assets/colab-badge.svg\" alt=\"Open In Colab\"/></a>"
      ]
    },
    {
      "cell_type": "code",
      "execution_count": 1,
      "metadata": {
        "id": "nZLbNzMn0DDq"
      },
      "outputs": [],
      "source": [
        "# --- Definición de la función en Python ---\n",
        "# \"def\" se usa para definir una función.\n",
        "# No necesitas declarar el tipo de las variables ni el de retorno.\n",
        "\n",
        "\n",
        "def sumar(a, b):\n",
        "  \"\"\"Esta función recibe dos números y devuelve su suma.\"\"\"\n",
        "  return a + b"
      ]
    },
    {
      "cell_type": "markdown",
      "source": [
        "**OPCIÓN 1**"
      ],
      "metadata": {
        "id": "PX4Z90kN-4xk"
      }
    },
    {
      "cell_type": "markdown",
      "source": [
        "Para imprimir el resultado puedo utilizar la función print y entre corchetes invocar a la función"
      ],
      "metadata": {
        "id": "RiaOWZgU-l39"
      }
    },
    {
      "cell_type": "code",
      "source": [
        "print(f\"El resultado de la suma es: {sumar(3,4)}\")"
      ],
      "metadata": {
        "colab": {
          "base_uri": "https://localhost:8080/"
        },
        "id": "oGaHdZ21-bvP",
        "outputId": "30205487-95b9-4bed-95a4-562db60acc16"
      },
      "execution_count": 4,
      "outputs": [
        {
          "output_type": "stream",
          "name": "stdout",
          "text": [
            "El resultado de la suma es: 7\n"
          ]
        }
      ]
    },
    {
      "cell_type": "code",
      "source": [],
      "metadata": {
        "id": "avw30QRy-4Hy"
      },
      "execution_count": null,
      "outputs": []
    },
    {
      "cell_type": "markdown",
      "source": [
        "**OPCIÓN 2**"
      ],
      "metadata": {
        "id": "Zasgasir-_q4"
      }
    },
    {
      "cell_type": "markdown",
      "source": [
        "Otra opción sería guardar el valor en una variable y posteriormente imprimir esa variable"
      ],
      "metadata": {
        "id": "HLXRKPMD_Cmg"
      }
    },
    {
      "cell_type": "code",
      "source": [
        "respuesta = sumar(5, 3)"
      ],
      "metadata": {
        "id": "BhHndwte-Uw9"
      },
      "execution_count": 2,
      "outputs": []
    },
    {
      "cell_type": "code",
      "source": [
        "print(f\"El resultado de la suma es: {respuesta}\")"
      ],
      "metadata": {
        "colab": {
          "base_uri": "https://localhost:8080/"
        },
        "id": "oH915w-J-X_M",
        "outputId": "874b973d-e505-4820-965d-e29ef32a135b"
      },
      "execution_count": 3,
      "outputs": [
        {
          "output_type": "stream",
          "name": "stdout",
          "text": [
            "El resultado de la suma es: 8\n"
          ]
        }
      ]
    },
    {
      "cell_type": "markdown",
      "source": [
        "#ES TU TURNO... AHORA IMPLEMENTA UNA FUNCIÓN QUE RESTE DOS VALORES"
      ],
      "metadata": {
        "id": "PSihZ7k7_SKD"
      }
    }
  ]
}