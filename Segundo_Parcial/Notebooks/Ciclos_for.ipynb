{
  "nbformat": 4,
  "nbformat_minor": 0,
  "metadata": {
    "colab": {
      "provenance": [],
      "authorship_tag": "ABX9TyPkamaJZRl9YfgegltmpaPb",
      "include_colab_link": true
    },
    "kernelspec": {
      "name": "python3",
      "display_name": "Python 3"
    },
    "language_info": {
      "name": "python"
    }
  },
  "cells": [
    {
      "cell_type": "markdown",
      "metadata": {
        "id": "view-in-github",
        "colab_type": "text"
      },
      "source": [
        "<a href=\"https://colab.research.google.com/github/ismaelpereziimas/Micros/blob/main/Segundo_Parcial/Notebooks/Ciclos_for.ipynb\" target=\"_parent\"><img src=\"https://colab.research.google.com/assets/colab-badge.svg\" alt=\"Open In Colab\"/></a>"
      ]
    },
    {
      "cell_type": "markdown",
      "source": [
        "Ejemplo 1: Recorrer todos los elementos en un array"
      ],
      "metadata": {
        "id": "9i6lkxfAx3z3"
      }
    },
    {
      "cell_type": "code",
      "execution_count": 11,
      "metadata": {
        "colab": {
          "base_uri": "https://localhost:8080/"
        },
        "id": "8bJC8f2Cu00T",
        "outputId": "72456d71-8c9c-466b-9283-185a339feefd"
      },
      "outputs": [
        {
          "output_type": "stream",
          "name": "stdout",
          "text": [
            "Mis alumnos de este semestre son:\n",
            "- Tadeo\n",
            "- Daniel\n",
            "- Haydee\n",
            "- Andy\n",
            "- Gabo\n",
            "\n",
            "Fin algoritmo\n"
          ]
        }
      ],
      "source": [
        "# 1. Definimos una lista con los nombres de alumnos.\n",
        "alumnos = [\"Tadeo\", \"Daniel\", \"Haydee\", \"Andy\", \"Gabo\"]\n",
        "\n",
        "print(\"Mis alumnos de este semestre son:\")\n",
        "\n",
        "# 2. Creamos el ciclo for.\n",
        "# La variable 'x' tomará el valor de cada elemento de la lista \"alumnos\" en cada repetición.\n",
        "for mhajo in alumnos:\n",
        "\n",
        "  print(f\"- {mhajo}\")\n",
        "\n",
        "print(\"\\nFin algoritmo\")"
      ]
    },
    {
      "cell_type": "markdown",
      "source": [
        "Ejemplo 2: Definir un rango. Método más cercano a los for tradicionales"
      ],
      "metadata": {
        "id": "rqs7UGeuyOql"
      }
    },
    {
      "cell_type": "code",
      "source": [
        "# Repetir 5 veces (los números irán del 0 al 4)\n",
        "print(\"Contando del 0 al 4:\")\n",
        "for i in range(5):\n",
        "  print(f\"Repetición número: {i}\")\n",
        "\n",
        "print(\"\\nFin algoritmo\")"
      ],
      "metadata": {
        "colab": {
          "base_uri": "https://localhost:8080/"
        },
        "id": "H1uEI9UbxufU",
        "outputId": "20e0b891-d89b-4bf2-9998-b662daaa7b1e"
      },
      "execution_count": 8,
      "outputs": [
        {
          "output_type": "stream",
          "name": "stdout",
          "text": [
            "Contando del 0 al 4:\n",
            "Repetición número: 0\n",
            "Repetición número: 1\n",
            "Repetición número: 2\n",
            "Repetición número: 3\n",
            "Repetición número: 4\n",
            "\n",
            "Fin algoritmo\n"
          ]
        }
      ]
    },
    {
      "cell_type": "code",
      "source": [
        "# Tambien es posible especificar un inicio y un fin\n",
        "# Los números irán del 1 al 5 (el 6 no se incluye)\n",
        "print(\"Contando del 1 al 5:\")\n",
        "for numero in range(1, 6):\n",
        "  print(f\"El número es: {numero}\")"
      ],
      "metadata": {
        "colab": {
          "base_uri": "https://localhost:8080/"
        },
        "id": "d2bgL5zezVLM",
        "outputId": "d6e07120-87c3-4509-b953-acabc75ffd75"
      },
      "execution_count": 7,
      "outputs": [
        {
          "output_type": "stream",
          "name": "stdout",
          "text": [
            "Contando del 1 al 5:\n",
            "El número es: 1\n",
            "El número es: 2\n",
            "El número es: 3\n",
            "El número es: 4\n",
            "El número es: 5\n"
          ]
        }
      ]
    }
  ]
}