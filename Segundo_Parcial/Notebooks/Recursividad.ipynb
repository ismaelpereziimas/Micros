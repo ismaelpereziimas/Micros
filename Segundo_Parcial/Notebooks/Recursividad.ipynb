{
  "nbformat": 4,
  "nbformat_minor": 0,
  "metadata": {
    "colab": {
      "provenance": [],
      "authorship_tag": "ABX9TyPxuDBDuN9SjJCEvSE6t/Sc",
      "include_colab_link": true
    },
    "kernelspec": {
      "name": "python3",
      "display_name": "Python 3"
    },
    "language_info": {
      "name": "python"
    }
  },
  "cells": [
    {
      "cell_type": "markdown",
      "metadata": {
        "id": "view-in-github",
        "colab_type": "text"
      },
      "source": [
        "<a href=\"https://colab.research.google.com/github/ismaelpereziimas/Micros/blob/main/Segundo_Parcial/Notebooks/Recursividad.ipynb\" target=\"_parent\"><img src=\"https://colab.research.google.com/assets/colab-badge.svg\" alt=\"Open In Colab\"/></a>"
      ]
    },
    {
      "cell_type": "markdown",
      "source": [
        "# **RECURSIVIDAD**\n",
        "En esta notebook eexploraremos el concepto de Recursividad en Algoritmos.\n",
        "La recursividad es una técnica de programación en la que una función se llama a sí misma para resolver un problema.\n",
        "\n",
        "Para resolver estos problemas, te sugiero los siguientes pasos:\n",
        "\n",
        "**Identifica el problema general.**\n",
        "Determina qué tarea se repetirá varias veces pero con datos más pequeños o simples.\n",
        "\n",
        "**Define el caso base (o condición de parada).**\n",
        "Este es el caso más simple del problema, donde la función ya no debe volver a llamarse a sí misma\n",
        "\n",
        "**Llama a la función dentro de sí misma.**\n",
        "La función se invoca recursivamente."
      ],
      "metadata": {
        "id": "xQGwfz7AhNS6"
      }
    },
    {
      "cell_type": "markdown",
      "source": [
        "# **EJEMPLO 1:**\n",
        "\n",
        "**CALCULAR EL FACTORIAL DE UN NUMERO**\n",
        "\n",
        "Calcular el factorial de un número significa multiplicar ese número por todos los números enteros positivos menores que él, hasta llegar a 1.\n",
        "\n",
        "Por ejemplo, 5!=5x4x3x2x1\n",
        "\n",
        "* Como puedes ver, la tarea que más se repite aqui es la multiplicación, por lo que este caso es susceptible a ser programado mediante recursividad.\n",
        "\n",
        "* El caso base o caso raiz es el caso más simple, este corresponde a **0!**, ya que esto es 1 y es un valor conocido.\n",
        "\n",
        "\n"
      ],
      "metadata": {
        "id": "rA3NbcPlinqw"
      }
    },
    {
      "cell_type": "code",
      "source": [
        "def factorial(n):\n",
        "\n",
        "  # Caso Base:\n",
        "  # Comprueba explícitamente si n es igual a 0.\n",
        "  if n == 0:\n",
        "    return 1\n",
        "  else:\n",
        "    return n * factorial(n - 1) #Esta es la invocación recursiva, ESTOY LLAMANDO A LA FUNCION FACTORIAL DENTRO DE FACTORIAL\n",
        "\n",
        "\n",
        "numero = 5\n",
        "print(f\"El factorial de {numero} es {factorial(numero)}\") # Resultado: 120\n",
        "\n",
        "numero = 0\n",
        "print(f\"El factorial de {numero} es {factorial(numero)}\") # Resultado: 1"
      ],
      "metadata": {
        "colab": {
          "base_uri": "https://localhost:8080/"
        },
        "id": "9RWvaw9K4dKo",
        "outputId": "b77a9f50-9f69-4b6f-bfe8-e488b968798e"
      },
      "execution_count": 4,
      "outputs": [
        {
          "output_type": "stream",
          "name": "stdout",
          "text": [
            "El factorial de 5 es 120\n",
            "El factorial de 0 es 1\n"
          ]
        }
      ]
    },
    {
      "cell_type": "markdown",
      "source": [
        "# **EJEMPLO 2:**\n",
        "\n",
        "**CALCULAR LA SUMA DE TODOS LOS NÚMEROS DENTRO DE UN ARRAY**\n",
        "\n",
        "En este caso se puede abordar el problema de la siguiente manera:            \n",
        " Teniendo un array como este: A[]=[4,2,3], hay que sumar 4+2+3.\n",
        "\n",
        "* La operación que se repite es una suma, por lo que es susceptible a ser programado por recursividad.\n",
        "* En este caso la recursividad nos propondría que la suma se puede hacer partiendo el array en pedacitos hasta que no tenga elementos que sumar, por lo que el valor de retorno sería cero.\n",
        "\n",
        "\n"
      ],
      "metadata": {
        "id": "Ach-yXx8kJ9M"
      }
    },
    {
      "cell_type": "code",
      "execution_count": 5,
      "metadata": {
        "colab": {
          "base_uri": "https://localhost:8080/"
        },
        "id": "IurTuFzC11J_",
        "outputId": "bba4cc95-9a56-4570-8f2c-535cab977632"
      },
      "outputs": [
        {
          "output_type": "stream",
          "name": "stdout",
          "text": [
            "La suma de [4, 2, 3] es 9\n"
          ]
        }
      ],
      "source": [
        "def sumar_lista(lista):\n",
        "  #Caso Base\n",
        "  if len(lista)==0: # Esto es True si la lista está vacía\n",
        "    return 0\n",
        "  else:\n",
        "    # El primer elemento + la suma del resto de la lista\n",
        "    return lista[0] + sumar_lista(lista[1:])#llamada recursiva\n",
        "\n",
        "#Invocar la funcion\n",
        "lista1 = [4, 2,3]\n",
        "#lista2=[79,5,6,7,8,5,3,4]\n",
        "print(f\"La suma de {lista1} es {sumar_lista(lista1)}\") # Resultado: 11"
      ]
    },
    {
      "cell_type": "markdown",
      "source": [
        "\n",
        "# **EJEMPLO 3:**\n",
        "\n",
        "**CUENTA RECURSIVA**\n",
        "\n",
        "\n"
      ],
      "metadata": {
        "id": "HIGJZYwpoq2r"
      }
    },
    {
      "cell_type": "code",
      "source": [
        "# Función recursiva: cuenta regresiva\n",
        "def cuenta_regresiva(n):\n",
        "    # Caso base: cuando llega a 0, se detiene\n",
        "    if n == 0:\n",
        "        print(\"Cuenta terminada\")\n",
        "    else:\n",
        "        print(n)\n",
        "        cuenta_regresiva(n - 1)  # llamada recursiva\n",
        "\n",
        "\n",
        "cuenta_regresiva(5)\n"
      ],
      "metadata": {
        "colab": {
          "base_uri": "https://localhost:8080/"
        },
        "id": "L_OFpULUoR_v",
        "outputId": "7bdc9974-1bc5-4bcd-d10d-9e9404197527"
      },
      "execution_count": 6,
      "outputs": [
        {
          "output_type": "stream",
          "name": "stdout",
          "text": [
            "5\n",
            "4\n",
            "3\n",
            "2\n",
            "1\n",
            "Cuenta terminada\n"
          ]
        }
      ]
    }
  ]
}