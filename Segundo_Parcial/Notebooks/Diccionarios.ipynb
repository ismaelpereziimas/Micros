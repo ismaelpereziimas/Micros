{
  "nbformat": 4,
  "nbformat_minor": 0,
  "metadata": {
    "colab": {
      "provenance": [],
      "authorship_tag": "ABX9TyPapUMuSID7vllBc6YnBRiv",
      "include_colab_link": true
    },
    "kernelspec": {
      "name": "python3",
      "display_name": "Python 3"
    },
    "language_info": {
      "name": "python"
    }
  },
  "cells": [
    {
      "cell_type": "markdown",
      "metadata": {
        "id": "view-in-github",
        "colab_type": "text"
      },
      "source": [
        "<a href=\"https://colab.research.google.com/github/ismaelpereziimas/Micros/blob/main/Segundo_Parcial/Notebooks/Diccionarios.ipynb\" target=\"_parent\"><img src=\"https://colab.research.google.com/assets/colab-badge.svg\" alt=\"Open In Colab\"/></a>"
      ]
    },
    {
      "cell_type": "markdown",
      "source": [
        "# **Diccionarios**\n",
        "\n",
        "Un diccionario es una estructura de datos que almacena pares de elementos en forma de clave–valor (key–value).\n",
        "\n",
        "Cada clave es única dentro del diccionario y sirve para acceder de manera rápida a su valor asociado, sin necesidad de usar índices numéricos como en las listas.\n",
        "\n",
        "Los diccionarios son mutables, no ordenados por defecto y permiten almacenar cualquier tipo de dato (números, cadenas, listas, otros diccionarios, etc.) como valores.\n"
      ],
      "metadata": {
        "id": "5bRLP8kYFS4m"
      }
    },
    {
      "cell_type": "code",
      "execution_count": 1,
      "metadata": {
        "id": "xBUvAhvSFPCR"
      },
      "outputs": [],
      "source": [
        "#Diccionario con las variables de un paciente\n",
        "\n",
        "paciente = {\n",
        "    \"id\": \"PAC001\",\n",
        "    \"frecuencia_cardiaca\": 78,\n",
        "    \"temperatura\": 36.7,\n",
        "    \"oxigenacion\": 97\n",
        "}"
      ]
    },
    {
      "cell_type": "code",
      "source": [
        "#Imprimimos en consola las claves y valores del diccionario\n",
        "print(paciente)"
      ],
      "metadata": {
        "colab": {
          "base_uri": "https://localhost:8080/"
        },
        "id": "HuDjGYG_GBoj",
        "outputId": "15fb7181-2bb9-44cd-936b-ec2087f4780a"
      },
      "execution_count": 4,
      "outputs": [
        {
          "output_type": "stream",
          "name": "stdout",
          "text": [
            "{'id': 'PAC001', 'frecuencia_cardiaca': 78, 'temperatura': 36.7, 'oxigenacion': 97}\n"
          ]
        }
      ]
    },
    {
      "cell_type": "code",
      "source": [
        "#podemos imprimir alguna clave y valor especifico\n",
        "print(paciente[\"frecuencia_cardiaca\"])"
      ],
      "metadata": {
        "colab": {
          "base_uri": "https://localhost:8080/"
        },
        "id": "i-SaieGnGEVM",
        "outputId": "5afa74d2-ed31-430b-a605-7a3d77351bdc"
      },
      "execution_count": 3,
      "outputs": [
        {
          "output_type": "stream",
          "name": "stdout",
          "text": [
            "78\n"
          ]
        }
      ]
    },
    {
      "cell_type": "code",
      "source": [
        "#modificar un elemento especifico para el diccionario\n",
        "paciente[\"temperatura\"]=34.0\n",
        "print(paciente)"
      ],
      "metadata": {
        "colab": {
          "base_uri": "https://localhost:8080/"
        },
        "id": "NJP_zh9sGpDC",
        "outputId": "75689ea1-2609-4ed0-a538-ef62d9f4a6f7"
      },
      "execution_count": 6,
      "outputs": [
        {
          "output_type": "stream",
          "name": "stdout",
          "text": [
            "{'id': 'PAC001', 'frecuencia_cardiaca': 78, 'temperatura': 34, 'oxigenacion': 97}\n"
          ]
        }
      ]
    },
    {
      "cell_type": "code",
      "source": [
        "#podemos recorrer los valores con un ciclo for\n",
        "for clave, valor in paciente.items():\n",
        "    print(f\"{clave}: {valor}\")\n"
      ],
      "metadata": {
        "colab": {
          "base_uri": "https://localhost:8080/"
        },
        "id": "lLoEX5sLGu9t",
        "outputId": "e64bdd4a-ed0f-4f67-a1e6-bb5b9d97f4bc"
      },
      "execution_count": 7,
      "outputs": [
        {
          "output_type": "stream",
          "name": "stdout",
          "text": [
            "id: PAC001\n",
            "frecuencia_cardiaca: 78\n",
            "temperatura: 34\n",
            "oxigenacion: 97\n"
          ]
        }
      ]
    },
    {
      "cell_type": "markdown",
      "source": [
        "Un diccionario es como una tabla de datos o expediente donde cada nombre (clave) está asociado a un valor específico, lo que permite organizar, buscar y modificar información de forma eficiente."
      ],
      "metadata": {
        "id": "whWABrsWHRjV"
      }
    },
    {
      "cell_type": "code",
      "source": [],
      "metadata": {
        "id": "-fRV_KjEHIH0"
      },
      "execution_count": null,
      "outputs": []
    }
  ]
}