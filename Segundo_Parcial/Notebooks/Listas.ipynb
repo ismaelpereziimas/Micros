{
  "nbformat": 4,
  "nbformat_minor": 0,
  "metadata": {
    "colab": {
      "provenance": [],
      "authorship_tag": "ABX9TyO/Ae/U6QXiN7NLKzoAXiHO",
      "include_colab_link": true
    },
    "kernelspec": {
      "name": "python3",
      "display_name": "Python 3"
    },
    "language_info": {
      "name": "python"
    }
  },
  "cells": [
    {
      "cell_type": "markdown",
      "metadata": {
        "id": "view-in-github",
        "colab_type": "text"
      },
      "source": [
        "<a href=\"https://colab.research.google.com/github/ismaelpereziimas/Micros/blob/main/Segundo_Parcial/Notebooks/Listas.ipynb\" target=\"_parent\"><img src=\"https://colab.research.google.com/assets/colab-badge.svg\" alt=\"Open In Colab\"/></a>"
      ]
    },
    {
      "cell_type": "code",
      "execution_count": 11,
      "metadata": {
        "colab": {
          "base_uri": "https://localhost:8080/"
        },
        "id": "jhkLjck_riIN",
        "outputId": "5595f68c-3a33-444f-ced5-f3293d2ef6bc"
      },
      "outputs": [
        {
          "output_type": "stream",
          "name": "stdout",
          "text": [
            "Lista de calificaciones: [10, 9, 8, 7, 10]\n"
          ]
        }
      ],
      "source": [
        "calificaciones = [10, 9, 8, 7, 10] #Declaración de la lista\n",
        "print(f\"Lista de calificaciones: {calificaciones}\")"
      ]
    },
    {
      "cell_type": "code",
      "source": [
        "#Para acceder a los elementos del arreglo se hace por medio del índice\n",
        "\n",
        "primera_calificacion = calificaciones[0] # El índice 0 es el primer elemento\n",
        "print(f\"La primera calificación es: {primera_calificacion}\")"
      ],
      "metadata": {
        "colab": {
          "base_uri": "https://localhost:8080/"
        },
        "id": "KVlSgG8PrsDg",
        "outputId": "b7e584db-ef0e-450f-d1df-9b500ebc35bf"
      },
      "execution_count": 12,
      "outputs": [
        {
          "output_type": "stream",
          "name": "stdout",
          "text": [
            "La primera calificación es: 10\n"
          ]
        }
      ]
    },
    {
      "cell_type": "code",
      "source": [
        "#Para cambiar un elemento se hace referencia por medio del índice\n",
        "#y se asigna un nuevo valor a ese elemento.\n",
        "calificaciones[2] = 9\n",
        "print(f\"Lista modificada: {calificaciones}\")"
      ],
      "metadata": {
        "colab": {
          "base_uri": "https://localhost:8080/"
        },
        "id": "dFBKNnGPrv0U",
        "outputId": "9e91ed6e-198a-412c-d0da-352e32a34db3"
      },
      "execution_count": 13,
      "outputs": [
        {
          "output_type": "stream",
          "name": "stdout",
          "text": [
            "Lista modificada: [10, 9, 9, 7, 10]\n"
          ]
        }
      ]
    },
    {
      "cell_type": "code",
      "source": [
        "#Se puede agregar un nuevo elemento a la lista con\n",
        "#el método .append\n",
        "calificaciones.append(6)\n",
        "print(f\"Lista con nueva calificación: {calificaciones}\")"
      ],
      "metadata": {
        "colab": {
          "base_uri": "https://localhost:8080/"
        },
        "id": "IGEjOV6ftoI6",
        "outputId": "815976ff-92f5-4738-f489-773a6a18f845"
      },
      "execution_count": 14,
      "outputs": [
        {
          "output_type": "stream",
          "name": "stdout",
          "text": [
            "Lista con nueva calificación: [10, 9, 9, 7, 10, 6]\n"
          ]
        }
      ]
    },
    {
      "cell_type": "code",
      "source": [
        "# Eliminar el primer 10 que encuentre\n",
        "calificaciones.remove(10)\n",
        "\n",
        "print(f\"Lista después de remover el 10: {calificaciones}\")"
      ],
      "metadata": {
        "colab": {
          "base_uri": "https://localhost:8080/"
        },
        "id": "_Mtv_6eSupg7",
        "outputId": "78007cdf-6bc7-40cd-df1c-ea898aae6667"
      },
      "execution_count": 15,
      "outputs": [
        {
          "output_type": "stream",
          "name": "stdout",
          "text": [
            "Lista después de remover el 10: [9, 9, 7, 10, 6]\n"
          ]
        }
      ]
    }
  ]
}