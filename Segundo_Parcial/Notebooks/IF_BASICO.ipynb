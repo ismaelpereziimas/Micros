{
  "nbformat": 4,
  "nbformat_minor": 0,
  "metadata": {
    "colab": {
      "provenance": [],
      "authorship_tag": "ABX9TyMV1kdN7PXWWRqelIXLxksQ",
      "include_colab_link": true
    },
    "kernelspec": {
      "name": "python3",
      "display_name": "Python 3"
    },
    "language_info": {
      "name": "python"
    }
  },
  "cells": [
    {
      "cell_type": "markdown",
      "metadata": {
        "id": "view-in-github",
        "colab_type": "text"
      },
      "source": [
        "<a href=\"https://colab.research.google.com/github/ismaelpereziimas/Micros/blob/main/Segundo_Parcial/Notebooks/IF_BASICO.ipynb\" target=\"_parent\"><img src=\"https://colab.research.google.com/assets/colab-badge.svg\" alt=\"Open In Colab\"/></a>"
      ]
    },
    {
      "cell_type": "markdown",
      "source": [
        "# **DEMOSTRACION IF**"
      ],
      "metadata": {
        "id": "BOJgbqB0XLCO"
      }
    },
    {
      "cell_type": "markdown",
      "source": [
        "En este programa determinaremos primero si una persona es mayor de edad, declarando una variable específica y una estructura condicional binaria. Posteriormente agregaremos una variable de tipo booleano que almacene si la persona tiene licencia o no.\n"
      ],
      "metadata": {
        "id": "m_BFNi7lanvH"
      }
    },
    {
      "cell_type": "code",
      "source": [
        "#PRORAMACION EN C\n",
        "#int edad=30;\n",
        "edad=20"
      ],
      "metadata": {
        "id": "M8Hxo3JqXUY_"
      },
      "execution_count": null,
      "outputs": []
    },
    {
      "cell_type": "code",
      "source": [
        "print(edad)"
      ],
      "metadata": {
        "colab": {
          "base_uri": "https://localhost:8080/"
        },
        "id": "r3gRCW8-XzKB",
        "outputId": "516be547-387b-4fee-cc34-18a28ece6046"
      },
      "execution_count": null,
      "outputs": [
        {
          "output_type": "stream",
          "name": "stdout",
          "text": [
            "20\n"
          ]
        }
      ]
    },
    {
      "cell_type": "markdown",
      "source": [
        "*Programando en C:*\n",
        "\n",
        "if (edad>=18){\n",
        "\n",
        "  printf(\"iNSHSO)\n",
        "\n",
        "}\n",
        "\n",
        "\n",
        "\n",
        "\n",
        "\n",
        "else{\n",
        "\n",
        "rutina\n",
        "\n",
        "}"
      ],
      "metadata": {
        "id": "d3tgmEoNYVEi"
      }
    },
    {
      "cell_type": "code",
      "source": [
        "if edad>=18:\n",
        "  print(\"Mayor de edad\")\n",
        "else:\n",
        "  print(\"Menor de edad\")"
      ],
      "metadata": {
        "colab": {
          "base_uri": "https://localhost:8080/"
        },
        "id": "VHR56_zWX9uM",
        "outputId": "6b8c8001-da8a-4f65-dd7f-f14528e70f27"
      },
      "execution_count": null,
      "outputs": [
        {
          "output_type": "stream",
          "name": "stdout",
          "text": [
            "Mayor de edad\n"
          ]
        }
      ]
    },
    {
      "cell_type": "markdown",
      "source": [
        "A continuación declaramos una variable de tipo booleano para almacenar si la persona tiene licencia de conducir o no."
      ],
      "metadata": {
        "id": "-J9ays4Nb4vv"
      }
    },
    {
      "cell_type": "code",
      "source": [
        "licencia_conducir=False"
      ],
      "metadata": {
        "id": "3mI6Zf__Y-zn"
      },
      "execution_count": null,
      "outputs": []
    },
    {
      "cell_type": "code",
      "source": [
        "if edad>=18 and licencia_conducir==True:\n",
        "  print(\"Si puede conducir\")\n",
        "else:\n",
        "  print(\"No puede conducir\")"
      ],
      "metadata": {
        "colab": {
          "base_uri": "https://localhost:8080/"
        },
        "id": "XAROjQxFZJwa",
        "outputId": "00791bfd-dac3-44fc-9b9a-a0b44f0673ce"
      },
      "execution_count": null,
      "outputs": [
        {
          "output_type": "stream",
          "name": "stdout",
          "text": [
            "No puede conducir\n"
          ]
        }
      ]
    }
  ]
}