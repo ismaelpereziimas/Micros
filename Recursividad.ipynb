{
  "nbformat": 4,
  "nbformat_minor": 0,
  "metadata": {
    "colab": {
      "provenance": [],
      "authorship_tag": "ABX9TyOB/Djyekuaa759VbxDczWX",
      "include_colab_link": true
    },
    "kernelspec": {
      "name": "python3",
      "display_name": "Python 3"
    },
    "language_info": {
      "name": "python"
    }
  },
  "cells": [
    {
      "cell_type": "markdown",
      "metadata": {
        "id": "view-in-github",
        "colab_type": "text"
      },
      "source": [
        "<a href=\"https://colab.research.google.com/github/ismaelpereziimas/Micros/blob/Programacion/Recursividad.ipynb\" target=\"_parent\"><img src=\"https://colab.research.google.com/assets/colab-badge.svg\" alt=\"Open In Colab\"/></a>"
      ]
    },
    {
      "cell_type": "code",
      "execution_count": 3,
      "metadata": {
        "id": "SlGUkX9gBOWi"
      },
      "outputs": [],
      "source": [
        "def cuenta_regresiva(n):\n",
        "  \"\"\"Realiza una cuenta regresiva desde n hasta 1.\"\"\"\n",
        "  if n < 1:\n",
        "    print(\"Recursion terminada\")\n",
        "    return # Detiene la ejecución\n",
        "\n",
        "  print(f\"{n}...\")\n",
        "  cuenta_regresiva(n - 1)\n",
        "\n",
        ""
      ]
    },
    {
      "cell_type": "code",
      "source": [
        "cuenta_regresiva(4)"
      ],
      "metadata": {
        "colab": {
          "base_uri": "https://localhost:8080/"
        },
        "id": "3w3jpzaDBo16",
        "outputId": "efed8c8c-0cbc-4f02-c555-ab4f737b59b5"
      },
      "execution_count": 4,
      "outputs": [
        {
          "output_type": "stream",
          "name": "stdout",
          "text": [
            "4...\n",
            "3...\n",
            "2...\n",
            "1...\n",
            "Recursion terminada\n"
          ]
        }
      ]
    }
  ]
}